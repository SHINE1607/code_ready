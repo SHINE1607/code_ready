{
 "cells": [
  {
   "cell_type": "markdown",
   "metadata": {},
   "source": [
    "**Hyperparameter Oprimization**\n",
    "* The aim of hyperparameter optimization in machine learning is to find the hyperparameters of a given machine learning algorithm that return the best performance as measured on a validation set. \n",
    "* so dont cofuse model paramters with hyperparanmters\n",
    "    * **model parameters** are the model finds itself to fit the data,eg: the weight and bias for an input faeture\n",
    "    * **hyperpatamter** are the settings for the machine learning model set by the engineer\n",
    "* The below image shows the hyperparamter optimzation in equation form, and f(x) is called the objective fucntion(RMSE or error rate)\n",
    "* x* is the set of paramter that yield the min value value for f(x)\n",
    "\n"
   ]
  },
  {
   "cell_type": "markdown",
   "metadata": {},
   "source": [
    "<img src=\"./images/objective_function.png\" width=300>\n",
    "\n"
   ]
  },
  {
   "cell_type": "markdown",
   "metadata": {},
   "source": [
    "* Predicting  regions of the hyprerparamater space that might give better results\n",
    "* We need to predict how well a new combination will do and also model  the uncertainity of that prediction\n",
    "<br>\n",
    "\n",
    "\n",
    "**We assume that the amount of computation involved in evaluating one setting of the hyper-paramter is huge**\n",
    "* much more than the work involved in building a model that predicts the  result fro knowing previous results with different settings of the hyper-paramter"
   ]
  },
  {
   "cell_type": "markdown",
   "metadata": {},
   "source": [
    "# Bayesian Optimization"
   ]
  },
  {
   "cell_type": "markdown",
   "metadata": {},
   "source": [
    "* unlike random or grid search method, bayesian optimzation keeps track of the previous evaluation result which is kept in track by creatubng a probabilitic mapping from hyperparameters to score of the objective fucntion\n",
    "* given by P(score|hyperparameters)(this is called surrogate)\n",
    "* "
   ]
  },
  {
   "cell_type": "markdown",
   "metadata": {},
   "source": [
    "**Sequential Model-Based Optimization**\n",
    "Key aspects of this model\n",
    "* a domain of the hyperprameters\n",
    "* an objective function\n",
    "* the surrogate model of the objective function\n",
    "* A criteria, called a **selection function**, for evaluating which hyperparameters to choose next from the surrogate model\n",
    "* A history consisting of (score, hyperparameter) pairs used by the algorithm to update the surrogate model"
   ]
  },
  {
   "cell_type": "markdown",
   "metadata": {},
   "source": [
    "**Surrogate function(Probabilty model)**\n",
    "* Surrogate function is simply aprobabilty mapping the objective function given the hyperparamters\n",
    "* surrogarte fucntion is called response surface, as it is thw reponse surface of the different set of hyperparamters\n",
    "* below is the response fucntion for a 2 dimensional hyperparameter space\n",
    "\n",
    "<img src=\"./images/response_function.png\" width=400>\n",
    "\n"
   ]
  },
  {
   "cell_type": "markdown",
   "metadata": {},
   "source": [
    "**Selection function**\n",
    "<img src=\"./images/expected_improvement.png\" width=400>\n",
    "* y* = thershold value of objective function, y ==> actual value of the objective function for hyperparamter set x\n",
    "* p(y|x) ==> probabilty of y given x\n",
    "* the above equationb is simply tryin to find the most probable value of y* - y in space y|x given y moves from (-inf, y*)\n",
    "* If we are getting the EI to be more than 0, it means that there some value of y which is better  than y*  in the domain (-inf, y*) for given hyperparameter set x\n",
    "* if EI = 0, no better value than y* is the space (-inf, y*) "
   ]
  },
  {
   "attachments": {},
   "cell_type": "markdown",
   "metadata": {},
   "source": [
    "**Tree-structured Parzen Estimator (TPE)[selection function]**\n",
    "\n",
    "* TPE works simply on Bayes theorem to find thes surrogate function(p(y|x)).\n",
    "<img src=\"./images/bayes.png\" width=200>\n",
    "* all magic happens here, from the above image, we can see that we need to find p(x|y).i.e probabilty of hyperparamters given score\n",
    "* for this we evaluate 2 pdf for y < y*(l(x)) and y > y*(g(x)) ==> y* is threshold\n",
    "<img src=\"./images/pdf.png\" width=200>\n",
    "* updating and evaluating l(x) and g(x) will be explained later\n",
    "* lets consider this withan example of random forest regressor for n_Estimator as hyperparamter\n",
    "<img src=\"./images/random_forest.png\" width=500>\n",
    "* the above image tells that around estimator = 100, there is a higher probabilty for score to be below threshold \n",
    "* So after some evaluation we get expected improvemnt as the below equation\n",
    "<img src=\"./images/new_expected.png\" width=400>\n",
    "* so from the above equation, we can see that our intuition was correct, we have incarease l(x) and decrease g(x) to. incarese EI. i,e we have select the hyperparameters that give higher probabilty to score below threshold"
   ]
  },
  {
   "cell_type": "markdown",
   "metadata": {},
   "source": [
    "<div>\n",
    "<img src=\"attachment:Screen%20Shot%202019-08-06%20at%201.48.10%20PM.png\" width=\"500\"/>\n",
    "</div>"
   ]
  },
  {
   "cell_type": "markdown",
   "metadata": {},
   "source": [
    "**updaiting l(x) and g(x)**\n",
    "* this is updated by previous history(score, hyperparanters) real value computed from the obejctive funtion for different paramter set"
   ]
  },
  {
   "cell_type": "markdown",
   "metadata": {},
   "source": [
    "There are seveal surrogate(Guassian, randomForestRegression, Tree Parzen Estimator(TPE) and criteria(Expected models) that are used \n",
    "                           \n",
    "                           \n",
    "                           \n",
    "                           "
   ]
  },
  {
   "cell_type": "markdown",
   "metadata": {},
   "source": [
    "# Gaussian model \n",
    "### build a probability model of the objective function and use it to select the most promising hyperparameters to evaluate in the true objective function."
   ]
  },
  {
   "cell_type": "markdown",
   "metadata": {},
   "source": [
    "* These models are based on the simple prior, similar inputs give similar ouputs\n"
   ]
  },
  {
   "cell_type": "code",
   "execution_count": 21,
   "metadata": {},
   "outputs": [],
   "source": [
    "import numpy as np \n",
    "import pandas as pd"
   ]
  },
  {
   "cell_type": "code",
   "execution_count": 22,
   "metadata": {},
   "outputs": [],
   "source": [
    "def objective(x):\n",
    "    \"\"\"Objective function to minimize\"\"\"\n",
    "    \n",
    "    # Create the polynomial object\n",
    "    f = np.poly1d([1, -2, -28, 28, 12, -26, 100])\n",
    "\n",
    "    # Return the value of the polynomial\n",
    "    return f(x) * 0.05"
   ]
  },
  {
   "cell_type": "code",
   "execution_count": 23,
   "metadata": {},
   "outputs": [
    {
     "name": "stdout",
     "output_type": "stream",
     "text": [
      "Minimum of -219.8012 occurs at 4.8779\n"
     ]
    },
    {
     "data": {
      "image/png": "[encoded data removed]",
      "text/plain": [
       "<Figure size 576x432 with 1 Axes>"
      ]
     },
     "metadata": {
      "needs_background": "light"
     },
     "output_type": "display_data"
    }
   ],
   "source": [
    "# Space over which to evluate the function is -5 to 6\n",
    "x = np.linspace(-5, 6, 10000)\n",
    "y = objective(x)\n",
    "\n",
    "miny = min(y)\n",
    "minx = x[np.argmin(y)]\n",
    "\n",
    "# Visualize the function\n",
    "plt.figure(figsize = (8, 6))\n",
    "plt.style.use('fivethirtyeight')\n",
    "plt.title('Objective Function'); plt.xlabel('x'); plt.ylabel('f(x)')\n",
    "plt.vlines(minx, min(y)- 50, max(y), linestyles = '--', colors = 'r')\n",
    "plt.plot(x, y);\n",
    "\n",
    "# Print out the minimum of the function and value\n",
    "print('Minimum of %0.4f occurs at %0.4f' % (miny, minx))"
   ]
  },
  {
   "cell_type": "code",
   "execution_count": 5,
   "metadata": {},
   "outputs": [],
   "source": [
    "from hyperopt import hp\n",
    "from hyperopt.pyll.stochastic import sample\n",
    "\n",
    "space = hp.uniform('x', -5, 6)\n",
    "\n"
   ]
  },
  {
   "cell_type": "code",
   "execution_count": 6,
   "metadata": {},
   "outputs": [],
   "source": [
    "samples = []\n",
    "for _ in range(10000):\n",
    "    samples.append(sample(space))\n",
    "    \n",
    "    "
   ]
  },
  {
   "cell_type": "code",
   "execution_count": 14,
   "metadata": {},
   "outputs": [
    {
     "data": {
      "image/png": "[encoded data removed]",
      "text/plain": [
       "<Figure size 432x288 with 1 Axes>"
      ]
     },
     "metadata": {
      "needs_background": "light"
     },
     "output_type": "display_data"
    }
   ],
   "source": [
    "import matplotlib.pyplot as plt\n",
    "\n",
    "plt.hist(samples, bins = 20, edgecolor = 'black'); \n",
    "plt.xlabel('x'); plt.ylabel('Frequency'); plt.title('Domain Space');"
   ]
  },
  {
   "cell_type": "code",
   "execution_count": 15,
   "metadata": {},
   "outputs": [],
   "source": [
    "# here we are going with 2 algorithms, namely random search and TPE "
   ]
  },
  {
   "cell_type": "code",
   "execution_count": 16,
   "metadata": {},
   "outputs": [],
   "source": [
    "from hyperopt import rand, tpe\n",
    "\n",
    "# Create the algorithms\n",
    "tpe_algo = tpe.suggest\n",
    "rand_algo = rand.suggest"
   ]
  },
  {
   "cell_type": "code",
   "execution_count": 18,
   "metadata": {},
   "outputs": [],
   "source": [
    "# History\n",
    "from hyperopt import Trials\n",
    "\n",
    "# Create two trials objects\n",
    "tpe_trials = Trials()\n",
    "rand_trials = Trials()"
   ]
  },
  {
   "cell_type": "code",
   "execution_count": 27,
   "metadata": {},
   "outputs": [
    {
     "name": "stdout",
     "output_type": "stream",
     "text": [
      "2000trial [00:00, 1081006.19trial/s, best loss=?]\n",
      "{'x': 4.878481851906148}\n",
      "100%|██████████| 2000/2000 [00:00<00:00, 5029141.49trial/s, best loss=?]\n"
     ]
    }
   ],
   "source": [
    "# Hyperparamter optimization\n",
    "\n",
    "from hyperopt import fmin\n",
    "\n",
    "# Run 2000 evals with the tpe algorithm\n",
    "tpe_best = fmin(fn=objective, space=space, algo=tpe_algo, trials=tpe_trials, \n",
    "                max_evals=500, rstate= np.random.RandomState(50))\n",
    "\n",
    "print(tpe_best)\n",
    "\n",
    "# Run 2000 evals with the random algorithm\n",
    "rand_best = fmin(fn=objective, space=space, algo=rand_algo, trials=rand_trials, \n",
    "                 max_evals=2000, rstate= np.random.RandomState(50))"
   ]
  },
  {
   "cell_type": "code",
   "execution_count": 28,
   "metadata": {},
   "outputs": [
    {
     "name": "stdout",
     "output_type": "stream",
     "text": [
      "Minimum loss attained with TPE:    -219.8012\n",
      "Minimum loss attained with random: -219.8012\n",
      "Actual minimum of f(x):            -219.8012\n",
      "\n",
      "Number of trials needed to attain minimum with TPE:    655\n",
      "Number of trials needed to attain minimum with random: 235\n",
      "\n",
      "Best value of x from TPE:    4.8785\n",
      "Best value of x from random: 4.8776\n",
      "Actual best value of x:      4.8779\n"
     ]
    }
   ],
   "source": [
    "# checking the loss for both algorithms\n",
    "# Print out information about losses\n",
    "print('Minimum loss attained with TPE:    {:.4f}'.format(tpe_trials.best_trial['result']['loss']))\n",
    "print('Minimum loss attained with random: {:.4f}'.format(rand_trials.best_trial['result']['loss']))\n",
    "print('Actual minimum of f(x):            {:.4f}'.format(miny))\n",
    "\n",
    "# Print out information about number of trials\n",
    "print('\\nNumber of trials needed to attain minimum with TPE:    {}'.format(tpe_trials.best_trial['misc']['idxs']['x'][0]))\n",
    "print('Number of trials needed to attain minimum with random: {}'.format(rand_trials.best_trial['misc']['idxs']['x'][0]))\n",
    "\n",
    "# Print out information about value of x\n",
    "print('\\nBest value of x from TPE:    {:.4f}'.format(tpe_best['x']))\n",
    "print('Best value of x from random: {:.4f}'.format(rand_best['x']))\n",
    "print('Actual best value of x:      {:.4f}'.format(minx))"
   ]
  },
  {
   "cell_type": "code",
   "execution_count": 32,
   "metadata": {},
   "outputs": [
    {
     "name": "stdout",
     "output_type": "stream",
     "text": [
      "100%|██████████| 200/200 [00:00<00:00, 320.58trial/s, best loss: -219.7892251127807] \n",
      "0:00:00.628745\n",
      "100%|██████████| 200/200 [00:00<00:00, 1271.63trial/s, best loss: -219.80078106530232]\n",
      "0:00:00.160119\n"
     ]
    }
   ],
   "source": [
    "# time taken by both algorith\n",
    "\n",
    "from datetime import datetime\n",
    "start=datetime.now()\n",
    "\n",
    "# Run 2000 evals with the tpe algorithm\n",
    "best = fmin(fn=objective, space=space, algo=tpe_algo, max_evals=200)\n",
    "print(datetime.now()-start)\n",
    "\n",
    "start=datetime.now()\n",
    "\n",
    "# Run 2000 evals with the random algorithm\n",
    "best = fmin(fn=objective, space=space, algo=rand_algo, max_evals=200)\n",
    "print(datetime.now()-start)\n"
   ]
  },
  {
   "cell_type": "code",
   "execution_count": null,
   "metadata": {},
   "outputs": [],
   "source": [
    "https://github.com/WillKoehrsen/hyperparameter-optimization/blob/master/Introduction%20to%20Bayesian%20Optimization%20with%20Hyperopt.ipynb"
   ]
  }
 ],
 "metadata": {
  "kernelspec": {
   "display_name": "Python 3.7.7 64-bit ('myenv': conda)",
   "language": "python",
   "name": "python37764bitmyenvconda823dfb8e79a54b2babc4116ecd4d023d"
  },
  "language_info": {
   "codemirror_mode": {
    "name": "ipython",
    "version": 3
   },
   "file_extension": ".py",
   "mimetype": "text/x-python",
   "name": "python",
   "nbconvert_exporter": "python",
   "pygments_lexer": "ipython3",
   "version": "3.7.7"
  }
 },
 "nbformat": 4,
 "nbformat_minor": 4
}
